{
  "nbformat": 4,
  "nbformat_minor": 0,
  "metadata": {
    "colab": {
      "provenance": [],
      "authorship_tag": "ABX9TyNMkK5rUCtWJXcafsaWmgxz",
      "include_colab_link": true
    },
    "kernelspec": {
      "name": "python3",
      "display_name": "Python 3"
    },
    "language_info": {
      "name": "python"
    }
  },
  "cells": [
    {
      "cell_type": "markdown",
      "metadata": {
        "id": "view-in-github",
        "colab_type": "text"
      },
      "source": [
        "<a href=\"https://colab.research.google.com/github/leiayoung/personal_health_project/blob/main/personal_health.ipynb\" target=\"_parent\"><img src=\"https://colab.research.google.com/assets/colab-badge.svg\" alt=\"Open In Colab\"/></a>"
      ]
    },
    {
      "cell_type": "markdown",
      "source": [
        "A fun little side project to analyze data I've gathered on my personal health over the last couple of years. My first step was to create some visualizations in Tableau. This answered many questions but posed more. I'm now coming over to Python to manipulate my data more directly (dealing with missing values, offsetting dates, ect.) then ulitimately I want to develop some models and make future predictions."
      ],
      "metadata": {
        "id": "c7jcMOmm_tZ7"
      }
    },
    {
      "cell_type": "code",
      "execution_count": 16,
      "metadata": {
        "id": "5meVl7n39JmQ"
      },
      "outputs": [],
      "source": [
        "# libraries for this project\n",
        "import numpy as np \n",
        "import pandas as pd  \n",
        "from datetime import datetime, timedelta\n",
        "from pydrive.auth import GoogleAuth\n",
        "from google.colab import drive\n",
        "from pydrive.drive import GoogleDrive\n",
        "from google.colab import auth\n",
        "from oauth2client.client import GoogleCredentials"
      ]
    },
    {
      "cell_type": "code",
      "source": [
        "# Connect data from Google Drive\n",
        "auth.authenticate_user()\n",
        "gauth = GoogleAuth()\n",
        "gauth.credentials = GoogleCredentials.get_application_default()\n",
        "drive = GoogleDrive(gauth)\n",
        "\n",
        "file_id_n = '1-10-Ll-Njrnj3xyI9x_V_H72R0hx3zDl' # connecting to my nutrition data\n",
        "file_id_w = '1SsirP4TgYJE3hraih0wUpWYcgr3Hj1Hc' # connecting my weight data\n",
        "download_n = drive.CreateFile({'id': file_id_n})\n",
        "download_w = drive.CreateFile({'id': file_id_w})\n",
        "\n",
        "# Download the two files to a local disc\n",
        "download_n.GetContentFile('file.csv')\n",
        "nutrition = pd.read_csv(\"file.csv\")\n",
        "\n",
        "download_w.GetContentFile('file.csv')\n",
        "weight = pd.read_csv(\"file.csv\")\n",
        "\n",
        "# Check all went well\n",
        "nutrition.head()\n",
        "#weight.head()"
      ],
      "metadata": {
        "colab": {
          "base_uri": "https://localhost:8080/",
          "height": 374
        },
        "id": "fXpJLX4FAoyd",
        "outputId": "61b4deeb-8c8a-46d2-924d-5335dba59b0a"
      },
      "execution_count": 11,
      "outputs": [
        {
          "output_type": "execute_result",
          "data": {
            "text/plain": [
              "         Date       Meal  Calories  Fat (g)  Saturated Fat  \\\n",
              "0  2020-06-24  Breakfast     523.0     11.0            3.1   \n",
              "1  2020-06-24      Lunch     127.0      7.2            2.1   \n",
              "2  2020-06-24     Dinner     321.0     11.6            2.0   \n",
              "3  2020-06-24     Snacks     525.0     11.5            2.5   \n",
              "4  2020-06-25  Breakfast     264.1      4.3            0.0   \n",
              "\n",
              "   Polyunsaturated Fat  Monounsaturated Fat  Trans Fat  Cholesterol  \\\n",
              "0                  2.4                  3.7        0.0        372.0   \n",
              "1                  0.1                  0.0        0.0         40.0   \n",
              "2                  0.0                  3.4        0.0        127.0   \n",
              "3                  3.5                  5.0        0.0          2.0   \n",
              "4                  0.0                  0.0        0.0         12.5   \n",
              "\n",
              "   Sodium (mg)  Potassium  Carbohydrates (g)  Fiber  Sugar  Protein (g)  \\\n",
              "0        912.0      138.0               74.7    0.0    4.4         25.6   \n",
              "1        423.0      271.0                3.2    0.0    3.5         13.9   \n",
              "2        925.0      164.0               41.9    1.4    1.5         11.0   \n",
              "3        449.0      615.0              101.5    5.4   67.4          6.1   \n",
              "4        423.9      422.8               39.2    8.1   22.6         19.0   \n",
              "\n",
              "   Vitamin A  Vitamin C  Calcium  Iron  Note  \n",
              "0      160.0       10.0     58.0  31.8   NaN  \n",
              "1       20.0       13.0      5.0  22.0   NaN  \n",
              "2        0.0        0.0      0.0   0.0   NaN  \n",
              "3       30.0        6.0     17.0  26.0   NaN  \n",
              "4      137.3       40.4    147.3  14.0   NaN  "
            ],
            "text/html": [
              "\n",
              "  <div id=\"df-d03d781d-2fc3-4b26-9aa7-c721147a0d39\">\n",
              "    <div class=\"colab-df-container\">\n",
              "      <div>\n",
              "<style scoped>\n",
              "    .dataframe tbody tr th:only-of-type {\n",
              "        vertical-align: middle;\n",
              "    }\n",
              "\n",
              "    .dataframe tbody tr th {\n",
              "        vertical-align: top;\n",
              "    }\n",
              "\n",
              "    .dataframe thead th {\n",
              "        text-align: right;\n",
              "    }\n",
              "</style>\n",
              "<table border=\"1\" class=\"dataframe\">\n",
              "  <thead>\n",
              "    <tr style=\"text-align: right;\">\n",
              "      <th></th>\n",
              "      <th>Date</th>\n",
              "      <th>Meal</th>\n",
              "      <th>Calories</th>\n",
              "      <th>Fat (g)</th>\n",
              "      <th>Saturated Fat</th>\n",
              "      <th>Polyunsaturated Fat</th>\n",
              "      <th>Monounsaturated Fat</th>\n",
              "      <th>Trans Fat</th>\n",
              "      <th>Cholesterol</th>\n",
              "      <th>Sodium (mg)</th>\n",
              "      <th>Potassium</th>\n",
              "      <th>Carbohydrates (g)</th>\n",
              "      <th>Fiber</th>\n",
              "      <th>Sugar</th>\n",
              "      <th>Protein (g)</th>\n",
              "      <th>Vitamin A</th>\n",
              "      <th>Vitamin C</th>\n",
              "      <th>Calcium</th>\n",
              "      <th>Iron</th>\n",
              "      <th>Note</th>\n",
              "    </tr>\n",
              "  </thead>\n",
              "  <tbody>\n",
              "    <tr>\n",
              "      <th>0</th>\n",
              "      <td>2020-06-24</td>\n",
              "      <td>Breakfast</td>\n",
              "      <td>523.0</td>\n",
              "      <td>11.0</td>\n",
              "      <td>3.1</td>\n",
              "      <td>2.4</td>\n",
              "      <td>3.7</td>\n",
              "      <td>0.0</td>\n",
              "      <td>372.0</td>\n",
              "      <td>912.0</td>\n",
              "      <td>138.0</td>\n",
              "      <td>74.7</td>\n",
              "      <td>0.0</td>\n",
              "      <td>4.4</td>\n",
              "      <td>25.6</td>\n",
              "      <td>160.0</td>\n",
              "      <td>10.0</td>\n",
              "      <td>58.0</td>\n",
              "      <td>31.8</td>\n",
              "      <td>NaN</td>\n",
              "    </tr>\n",
              "    <tr>\n",
              "      <th>1</th>\n",
              "      <td>2020-06-24</td>\n",
              "      <td>Lunch</td>\n",
              "      <td>127.0</td>\n",
              "      <td>7.2</td>\n",
              "      <td>2.1</td>\n",
              "      <td>0.1</td>\n",
              "      <td>0.0</td>\n",
              "      <td>0.0</td>\n",
              "      <td>40.0</td>\n",
              "      <td>423.0</td>\n",
              "      <td>271.0</td>\n",
              "      <td>3.2</td>\n",
              "      <td>0.0</td>\n",
              "      <td>3.5</td>\n",
              "      <td>13.9</td>\n",
              "      <td>20.0</td>\n",
              "      <td>13.0</td>\n",
              "      <td>5.0</td>\n",
              "      <td>22.0</td>\n",
              "      <td>NaN</td>\n",
              "    </tr>\n",
              "    <tr>\n",
              "      <th>2</th>\n",
              "      <td>2020-06-24</td>\n",
              "      <td>Dinner</td>\n",
              "      <td>321.0</td>\n",
              "      <td>11.6</td>\n",
              "      <td>2.0</td>\n",
              "      <td>0.0</td>\n",
              "      <td>3.4</td>\n",
              "      <td>0.0</td>\n",
              "      <td>127.0</td>\n",
              "      <td>925.0</td>\n",
              "      <td>164.0</td>\n",
              "      <td>41.9</td>\n",
              "      <td>1.4</td>\n",
              "      <td>1.5</td>\n",
              "      <td>11.0</td>\n",
              "      <td>0.0</td>\n",
              "      <td>0.0</td>\n",
              "      <td>0.0</td>\n",
              "      <td>0.0</td>\n",
              "      <td>NaN</td>\n",
              "    </tr>\n",
              "    <tr>\n",
              "      <th>3</th>\n",
              "      <td>2020-06-24</td>\n",
              "      <td>Snacks</td>\n",
              "      <td>525.0</td>\n",
              "      <td>11.5</td>\n",
              "      <td>2.5</td>\n",
              "      <td>3.5</td>\n",
              "      <td>5.0</td>\n",
              "      <td>0.0</td>\n",
              "      <td>2.0</td>\n",
              "      <td>449.0</td>\n",
              "      <td>615.0</td>\n",
              "      <td>101.5</td>\n",
              "      <td>5.4</td>\n",
              "      <td>67.4</td>\n",
              "      <td>6.1</td>\n",
              "      <td>30.0</td>\n",
              "      <td>6.0</td>\n",
              "      <td>17.0</td>\n",
              "      <td>26.0</td>\n",
              "      <td>NaN</td>\n",
              "    </tr>\n",
              "    <tr>\n",
              "      <th>4</th>\n",
              "      <td>2020-06-25</td>\n",
              "      <td>Breakfast</td>\n",
              "      <td>264.1</td>\n",
              "      <td>4.3</td>\n",
              "      <td>0.0</td>\n",
              "      <td>0.0</td>\n",
              "      <td>0.0</td>\n",
              "      <td>0.0</td>\n",
              "      <td>12.5</td>\n",
              "      <td>423.9</td>\n",
              "      <td>422.8</td>\n",
              "      <td>39.2</td>\n",
              "      <td>8.1</td>\n",
              "      <td>22.6</td>\n",
              "      <td>19.0</td>\n",
              "      <td>137.3</td>\n",
              "      <td>40.4</td>\n",
              "      <td>147.3</td>\n",
              "      <td>14.0</td>\n",
              "      <td>NaN</td>\n",
              "    </tr>\n",
              "  </tbody>\n",
              "</table>\n",
              "</div>\n",
              "      <button class=\"colab-df-convert\" onclick=\"convertToInteractive('df-d03d781d-2fc3-4b26-9aa7-c721147a0d39')\"\n",
              "              title=\"Convert this dataframe to an interactive table.\"\n",
              "              style=\"display:none;\">\n",
              "        \n",
              "  <svg xmlns=\"http://www.w3.org/2000/svg\" height=\"24px\"viewBox=\"0 0 24 24\"\n",
              "       width=\"24px\">\n",
              "    <path d=\"M0 0h24v24H0V0z\" fill=\"none\"/>\n",
              "    <path d=\"M18.56 5.44l.94 2.06.94-2.06 2.06-.94-2.06-.94-.94-2.06-.94 2.06-2.06.94zm-11 1L8.5 8.5l.94-2.06 2.06-.94-2.06-.94L8.5 2.5l-.94 2.06-2.06.94zm10 10l.94 2.06.94-2.06 2.06-.94-2.06-.94-.94-2.06-.94 2.06-2.06.94z\"/><path d=\"M17.41 7.96l-1.37-1.37c-.4-.4-.92-.59-1.43-.59-.52 0-1.04.2-1.43.59L10.3 9.45l-7.72 7.72c-.78.78-.78 2.05 0 2.83L4 21.41c.39.39.9.59 1.41.59.51 0 1.02-.2 1.41-.59l7.78-7.78 2.81-2.81c.8-.78.8-2.07 0-2.86zM5.41 20L4 18.59l7.72-7.72 1.47 1.35L5.41 20z\"/>\n",
              "  </svg>\n",
              "      </button>\n",
              "      \n",
              "  <style>\n",
              "    .colab-df-container {\n",
              "      display:flex;\n",
              "      flex-wrap:wrap;\n",
              "      gap: 12px;\n",
              "    }\n",
              "\n",
              "    .colab-df-convert {\n",
              "      background-color: #E8F0FE;\n",
              "      border: none;\n",
              "      border-radius: 50%;\n",
              "      cursor: pointer;\n",
              "      display: none;\n",
              "      fill: #1967D2;\n",
              "      height: 32px;\n",
              "      padding: 0 0 0 0;\n",
              "      width: 32px;\n",
              "    }\n",
              "\n",
              "    .colab-df-convert:hover {\n",
              "      background-color: #E2EBFA;\n",
              "      box-shadow: 0px 1px 2px rgba(60, 64, 67, 0.3), 0px 1px 3px 1px rgba(60, 64, 67, 0.15);\n",
              "      fill: #174EA6;\n",
              "    }\n",
              "\n",
              "    [theme=dark] .colab-df-convert {\n",
              "      background-color: #3B4455;\n",
              "      fill: #D2E3FC;\n",
              "    }\n",
              "\n",
              "    [theme=dark] .colab-df-convert:hover {\n",
              "      background-color: #434B5C;\n",
              "      box-shadow: 0px 1px 3px 1px rgba(0, 0, 0, 0.15);\n",
              "      filter: drop-shadow(0px 1px 2px rgba(0, 0, 0, 0.3));\n",
              "      fill: #FFFFFF;\n",
              "    }\n",
              "  </style>\n",
              "\n",
              "      <script>\n",
              "        const buttonEl =\n",
              "          document.querySelector('#df-d03d781d-2fc3-4b26-9aa7-c721147a0d39 button.colab-df-convert');\n",
              "        buttonEl.style.display =\n",
              "          google.colab.kernel.accessAllowed ? 'block' : 'none';\n",
              "\n",
              "        async function convertToInteractive(key) {\n",
              "          const element = document.querySelector('#df-d03d781d-2fc3-4b26-9aa7-c721147a0d39');\n",
              "          const dataTable =\n",
              "            await google.colab.kernel.invokeFunction('convertToInteractive',\n",
              "                                                     [key], {});\n",
              "          if (!dataTable) return;\n",
              "\n",
              "          const docLinkHtml = 'Like what you see? Visit the ' +\n",
              "            '<a target=\"_blank\" href=https://colab.research.google.com/notebooks/data_table.ipynb>data table notebook</a>'\n",
              "            + ' to learn more about interactive tables.';\n",
              "          element.innerHTML = '';\n",
              "          dataTable['output_type'] = 'display_data';\n",
              "          await google.colab.output.renderOutput(dataTable, element);\n",
              "          const docLink = document.createElement('div');\n",
              "          docLink.innerHTML = docLinkHtml;\n",
              "          element.appendChild(docLink);\n",
              "        }\n",
              "      </script>\n",
              "    </div>\n",
              "  </div>\n",
              "  "
            ]
          },
          "metadata": {},
          "execution_count": 11
        }
      ]
    },
    {
      "cell_type": "markdown",
      "source": [
        "First things first I want to form a relationship between these tables where weight from the current day is connected to nutrition from the day before. To do this I'll create a new field \"Nutri_Date\" that saves just the Year-Month-Day and then reduces the Day by 1.\n"
      ],
      "metadata": {
        "id": "juduka1WEZZ1"
      }
    },
    {
      "cell_type": "code",
      "source": [
        "# Define a function to change the date type and then subtract a day\n",
        "def convert_date_string(input_string):\n",
        "    dt = datetime.strptime(input_string, \"%b %d %Y %H:%M:%S\")\n",
        "    dt = dt - timedelta(days=1)\n",
        "    return dt.strftime(\"%Y-%m-%d\")\n",
        "\n",
        "# Apply the function\n",
        "weight['Nutri_Date'] = weight['Time of Measurement'].apply(convert_date_string)\n",
        "\n",
        "# Spot check results\n",
        "print(weight['Nutri_Date'])"
      ],
      "metadata": {
        "id": "_khCRoeIHgqA",
        "colab": {
          "base_uri": "https://localhost:8080/"
        },
        "outputId": "cf933d8a-7580-4b73-be2f-cf28f899a5a8"
      },
      "execution_count": 17,
      "outputs": [
        {
          "output_type": "stream",
          "name": "stdout",
          "text": [
            "0      2021-01-25\n",
            "1      2021-01-27\n",
            "2      2021-01-29\n",
            "3      2021-01-30\n",
            "4      2021-02-03\n",
            "          ...    \n",
            "895    2023-02-11\n",
            "896    2023-02-12\n",
            "897    2023-02-12\n",
            "898    2023-02-13\n",
            "899    2023-02-13\n",
            "Name: Nutri_Date, Length: 900, dtype: object\n"
          ]
        }
      ]
    },
    {
      "cell_type": "markdown",
      "source": [
        "Next let's merge these two tables into one data table, keeping all values to be able to see which days we have full information and which days have missing information."
      ],
      "metadata": {
        "id": "D6vzDUzh8_Sc"
      }
    },
    {
      "cell_type": "code",
      "source": [
        "# Outter merge the two tables, creating some records with null values\n",
        "health = pd.merge(weight, nutrition, how='outer', left_on='Nutri_Date', right_on='Date')\n",
        "\n",
        "# Check things went as I planned\n",
        "print(\"The health data set has \", len(health), \" records.\")\n",
        "print(health.head())"
      ],
      "metadata": {
        "colab": {
          "base_uri": "https://localhost:8080/"
        },
        "id": "GpGcDgf09OoQ",
        "outputId": "b493674f-7aaa-4ba7-c0cb-95b1354aae23"
      },
      "execution_count": 26,
      "outputs": [
        {
          "output_type": "stream",
          "name": "stdout",
          "text": [
            "The health data set has  2641  records.\n",
            "      Time of Measurement   Weight(lb)   BMI Body Fat(%)  \\\n",
            "0  Jan 26  2021  07:01:32        130.4  24.6        27.5   \n",
            "1  Jan 26  2021  07:01:32        130.4  24.6        27.5   \n",
            "2  Jan 26  2021  07:01:32        130.4  24.6        27.5   \n",
            "3  Jan 26  2021  07:01:32        130.4  24.6        27.5   \n",
            "4  Jan 28  2021  09:14:30        130.6  24.7        27.6   \n",
            "\n",
            "  Fat-free Body Weight(lb) Subcutaneous Fat(%) Visceral Fat Body Water(%)  \\\n",
            "0                     94.4                24.9            7          49.7   \n",
            "1                     94.4                24.9            7          49.7   \n",
            "2                     94.4                24.9            7          49.7   \n",
            "3                     94.4                24.9            7          49.7   \n",
            "4                     94.6                25.0            7          49.7   \n",
            "\n",
            "  Skeletal Muscle(%) Muscle Mass(lb)  ... Potassium Carbohydrates (g) Fiber  \\\n",
            "0               42.2            88.8  ...     410.2              48.1   6.6   \n",
            "1               42.2            88.8  ...     319.9              25.8   4.1   \n",
            "2               42.2            88.8  ...       0.0              19.5   0.0   \n",
            "3               42.2            88.8  ...       0.0               3.0   0.4   \n",
            "4               42.2            88.8  ...     420.9              10.4   3.3   \n",
            "\n",
            "  Sugar Protein (g) Vitamin A Vitamin C Calcium  Iron  Note  \n",
            "0  22.4        17.9     172.5      28.2   104.8  27.2   NaN  \n",
            "1   3.5        24.1       8.0      55.6    25.5   9.4   NaN  \n",
            "2   0.0        33.8       0.0       0.0     0.0   4.0   NaN  \n",
            "3   2.5         0.4       0.0       0.0     0.5   1.9   NaN  \n",
            "4   4.8        25.3     369.3      92.1    70.9  20.2   NaN  \n",
            "\n",
            "[5 rows x 36 columns]\n"
          ]
        }
      ]
    },
    {
      "cell_type": "markdown",
      "source": [
        "Now that we have a master data set named 'health' let's explore our missing values."
      ],
      "metadata": {
        "id": "3JHeXPwvEAh4"
      }
    },
    {
      "cell_type": "code",
      "source": [
        "# Create data frames that have missing values\n",
        "missing_nutrition = health[health['Date'].isnull()]\n",
        "missing_weight = health[health['BMI'].isnull()]\n",
        "\n",
        "# Explore what percent of our data has missing values\n",
        "prop_missing_nutri = round(len(missing_nutrition)/len(health)*100,2)\n",
        "prop_missing_weight = round(len(missing_weight)/len(health)*100,2)\n",
        "\n",
        "# Print summary of results\n",
        "print(\"Of the \", len(health), \"records in our health data set \")\n",
        "print( prop_missing_nutri, \"% is missing nutrition data and\")\n",
        "print( prop_missing_weight, \"% is missing weight data.\")"
      ],
      "metadata": {
        "colab": {
          "base_uri": "https://localhost:8080/"
        },
        "id": "0pIhQm7e-y_z",
        "outputId": "24e2e3b6-7e6c-4958-eee6-f8ad62859319"
      },
      "execution_count": 29,
      "outputs": [
        {
          "output_type": "stream",
          "name": "stdout",
          "text": [
            "Of the  2641 records in our health data set \n",
            "14.46 % is missing nutrition data and\n",
            "22.23 % is missing weight data.\n"
          ]
        }
      ]
    },
    {
      "cell_type": "markdown",
      "source": [
        "I see that about 37% of our data is missing either nutrition or weight data, but that still leaves well over 1000 records that are complete. I'll do my initial analysis on records with complete data, and if time I'll explore imputing missing values to see if this gains any insights."
      ],
      "metadata": {
        "id": "vS8eiJC1GTMj"
      }
    },
    {
      "cell_type": "code",
      "source": [
        "# Outter merge the two tables, creating some records with null values\n",
        "health_com = pd.merge(weight, nutrition, how='inner', left_on='Nutri_Date', right_on='Date')\n",
        "\n",
        "# Look at my columns to decide what I want to explore next\n",
        "print(health_com.columns)"
      ],
      "metadata": {
        "colab": {
          "base_uri": "https://localhost:8080/"
        },
        "id": "frYyFQGJIKn2",
        "outputId": "900e767a-f241-4f1c-ee5a-7b3fd68b3d42"
      },
      "execution_count": 32,
      "outputs": [
        {
          "output_type": "stream",
          "name": "stdout",
          "text": [
            "Index(['Time of Measurement', ' Weight(lb)', 'BMI', 'Body Fat(%)',\n",
            "       'Fat-free Body Weight(lb)', 'Subcutaneous Fat(%)', 'Visceral Fat',\n",
            "       'Body Water(%)', 'Skeletal Muscle(%)', 'Muscle Mass(lb)',\n",
            "       'Bone Mass(lb)', 'Protein (%)', 'BMR(kcal)', 'Metabolic Age', 'Remarks',\n",
            "       'Nutri_Date', 'Date', 'Meal', 'Calories', 'Fat (g)', 'Saturated Fat',\n",
            "       'Polyunsaturated Fat', 'Monounsaturated Fat', 'Trans Fat',\n",
            "       'Cholesterol', 'Sodium (mg)', 'Potassium', 'Carbohydrates (g)', 'Fiber',\n",
            "       'Sugar', 'Protein (g)', 'Vitamin A', 'Vitamin C', 'Calcium', 'Iron',\n",
            "       'Note'],\n",
            "      dtype='object')\n"
          ]
        }
      ]
    },
    {
      "cell_type": "code",
      "source": [],
      "metadata": {
        "id": "wXRLFzBjIzDG"
      },
      "execution_count": null,
      "outputs": []
    }
  ]
}